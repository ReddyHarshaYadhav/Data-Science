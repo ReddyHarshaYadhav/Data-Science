{
 "cells": [
  {
   "cell_type": "markdown",
   "id": "50fd2ed0",
   "metadata": {},
   "source": [
    "# Section A: Data Structures & Control Structures"
   ]
  },
  {
   "cell_type": "markdown",
   "id": "3f707bdd",
   "metadata": {},
   "source": [
    "1.\tCreate a list of 5 integers. Perform and print the result of the following operations: append, extend, insert, remove, pop, clear, index, count, sort, and reverse."
   ]
  },
  {
   "cell_type": "code",
   "execution_count": 1,
   "id": "59f62e6a",
   "metadata": {},
   "outputs": [
    {
     "name": "stdout",
     "output_type": "stream",
     "text": [
      "After append: [10, 20, 30, 40, 50, 60]\n",
      "After extend: [10, 20, 30, 40, 50, 60, 70, 80]\n",
      "After insert: [10, 20, 25, 30, 40, 50, 60, 70, 80]\n",
      "After remove: [10, 20, 30, 40, 50, 60, 70, 80]\n",
      "After pop: [10, 20, 30, 40, 50, 60, 70]\n",
      "Popped value: 80\n",
      "After clear: []\n",
      "Index of 30: 2\n",
      "Count of 40: 1\n",
      "Sorted list: [10, 20, 30, 40, 50, 60, 70]\n",
      "Reversed list: [70, 60, 50, 40, 30, 20, 10]\n"
     ]
    }
   ],
   "source": [
    "nums = [10, 20, 30, 40, 50]\n",
    "\n",
    "nums.append(60)\n",
    "print(\"After append:\", nums)\n",
    "\n",
    "nums.extend([70, 80])\n",
    "print(\"After extend:\", nums)\n",
    "\n",
    "nums.insert(2, 25)\n",
    "print(\"After insert:\", nums)\n",
    "\n",
    "nums.remove(25)\n",
    "print(\"After remove:\", nums)\n",
    "\n",
    "popped = nums.pop()\n",
    "print(\"After pop:\", nums)\n",
    "print(\"Popped value:\", popped)\n",
    "\n",
    "copy_nums = nums.copy()\n",
    "nums.clear()\n",
    "print(\"After clear:\", nums)\n",
    "\n",
    "nums = copy_nums\n",
    "\n",
    "idx = nums.index(30)\n",
    "print(\"Index of 30:\", idx)\n",
    "\n",
    "count = nums.count(40)\n",
    "print(\"Count of 40:\", count)\n",
    "\n",
    "nums.sort()\n",
    "print(\"Sorted list:\", nums)\n",
    "\n",
    "nums.reverse()\n",
    "print(\"Reversed list:\", nums)"
   ]
  },
  {
   "cell_type": "markdown",
   "id": "e437c9cd",
   "metadata": {},
   "source": [
    "2.\tCreate a tuple that stores 3 student names. Try changing the second name in the tuple. What happens? Explain why."
   ]
  },
  {
   "cell_type": "code",
   "execution_count": 3,
   "id": "45fab6d4",
   "metadata": {},
   "outputs": [
    {
     "name": "stdout",
     "output_type": "stream",
     "text": [
      "Error: 'tuple' object does not support item assignment\n"
     ]
    }
   ],
   "source": [
    "students = ('Harsha', 'Nikitha', 'Thanu')\n",
    "try:\n",
    "    students[1] = 'Amit'\n",
    "except TypeError as e:\n",
    "    print(\"Error:\", e)"
   ]
  },
  {
   "cell_type": "markdown",
   "id": "772b3514",
   "metadata": {},
   "source": [
    "3.\tCreate a set of integers with some duplicate values. Print the set and explain the output."
   ]
  },
  {
   "cell_type": "code",
   "execution_count": 4,
   "id": "06bbc23a",
   "metadata": {},
   "outputs": [
    {
     "name": "stdout",
     "output_type": "stream",
     "text": [
      "Set without duplicates: {1, 2, 3, 4, 5}\n"
     ]
    }
   ],
   "source": [
    "nums_with_dupes = [1, 2, 2, 3, 4, 4, 5]\n",
    "nums_set = set(nums_with_dupes)\n",
    "print(\"Set without duplicates:\", nums_set)"
   ]
  },
  {
   "cell_type": "markdown",
   "id": "0823bd86",
   "metadata": {},
   "source": [
    "4.\tCreate a dictionary with the keys: 'name', 'age', and 'city'. Update the age and add a new key 'email'. Print the final dictionary."
   ]
  },
  {
   "cell_type": "code",
   "execution_count": 7,
   "id": "da46c9a8",
   "metadata": {},
   "outputs": [
    {
     "name": "stdout",
     "output_type": "stream",
     "text": [
      "Before Update:  {'name': 'Ravi', 'age': 21, 'city': 'Tirupati'}\n",
      "After update the Final dictionary is : {'name': 'Ravi', 'age': 22, 'city': 'Tirupati', 'email': 'ravi@email.com'}\n"
     ]
    }
   ],
   "source": [
    "student = {'name': 'Ravi', 'age': 21, 'city': 'Tirupati'}\n",
    "print(\"Before Update: \", student)\n",
    "student['age'] = 22\n",
    "student['email'] = 'ravi@email.com'\n",
    "print(\"After update the Final dictionary is :\", student)"
   ]
  },
  {
   "cell_type": "markdown",
   "id": "c3941781",
   "metadata": {},
   "source": [
    "5.\t Write a script that checks if a person is eligible to vote (age ≥ 18). Take age as a variable and print the appropriate message."
   ]
  },
  {
   "cell_type": "code",
   "execution_count": 11,
   "id": "2b8fffee",
   "metadata": {},
   "outputs": [
    {
     "name": "stdout",
     "output_type": "stream",
     "text": [
      "The voter is eligible to vote\n"
     ]
    }
   ],
   "source": [
    "age = int(input(\"enter the age of voter :\"))\n",
    "if age >= 18:\n",
    "    print(\"The voter is eligible to vote\")\n",
    "else:\n",
    "        print(\"The voter is not elgible to vote\")"
   ]
  },
  {
   "cell_type": "markdown",
   "id": "68e54b95",
   "metadata": {},
   "source": [
    "6.\tGiven a 'marks' variable, print the grade:\n",
    "- 90 and above: 'A'\n",
    "- 75–89: 'B'\n",
    "- 50–74: 'C'\n",
    "- Below 50: 'Fail'"
   ]
  },
  {
   "cell_type": "code",
   "execution_count": 22,
   "id": "58989606",
   "metadata": {},
   "outputs": [
    {
     "name": "stdout",
     "output_type": "stream",
     "text": [
      "The Student Grade is : A\n"
     ]
    }
   ],
   "source": [
    "Marks = int(input(\"enter the marks: \"))\n",
    "if Marks >= 90:\n",
    "    grade = \"A\"\n",
    "elif Marks >= 75:\n",
    "     grade = \"B\"\n",
    "elif Marks >= 50:\n",
    "    grade = \"c\"\n",
    "else:\n",
    "    grade = \"fail\"\n",
    "print(\"The Student Grade is :\",grade)"
   ]
  },
  {
   "cell_type": "markdown",
   "id": "b0b76c87",
   "metadata": {},
   "source": [
    "7.\tGiven a number, check if it's positive, and if it is also even. If not positive, print if it's zero or negative."
   ]
  },
  {
   "cell_type": "code",
   "execution_count": 29,
   "id": "83281b5d",
   "metadata": {},
   "outputs": [
    {
     "name": "stdout",
     "output_type": "stream",
     "text": [
      "The given 0 is Zero.\n"
     ]
    }
   ],
   "source": [
    "Num = int(input(\"Enter the number :\"))\n",
    "if Num > 0:\n",
    "    if Num % 2 == 0:\n",
    "        print(f\"The given {Num} is Positive and Even.\")\n",
    "    else:\n",
    "        print(f\"The given {Num} is Positive and Odd.\")\n",
    "else:\n",
    "    if Num == 0:\n",
    "       print(f\"The given {Num} is Zero.\")\n",
    "    else:\n",
    "        print(f\"The given {Num} is Not Positive.\")"
   ]
  },
  {
   "cell_type": "markdown",
   "id": "c187194e",
   "metadata": {},
   "source": [
    "# Section B: Numpy"
   ]
  },
  {
   "cell_type": "markdown",
   "id": "eced6067",
   "metadata": {},
   "source": [
    "8.\tCreate:\n",
    "- A scalar using np.array(5)\n",
    "- A 1D array with values 1 to 5\n",
    "- A 2D array (2x3) with values from 10 to 60 in steps of 10\n"
   ]
  },
  {
   "cell_type": "code",
   "execution_count": 30,
   "id": "2dc85798",
   "metadata": {},
   "outputs": [
    {
     "name": "stdout",
     "output_type": "stream",
     "text": [
      "5\n",
      "[1 2 3 4 5]\n",
      "[[10 20 30]\n",
      " [40 50 60]]\n"
     ]
    }
   ],
   "source": [
    "import numpy as np\n",
    "\n",
    "a = np.array(5)\n",
    "print(a)\n",
    "\n",
    "b = np.array([1, 2, 3, 4, 5])\n",
    "print(b)\n",
    "\n",
    "c = np.array([[10, 20, 30], [40, 50, 60]])\n",
    "print(c)"
   ]
  },
  {
   "cell_type": "markdown",
   "id": "d3efd22b",
   "metadata": {},
   "source": [
    "9.\tGenerate a 4x4 Numpy array of random integers between 0 and 100 using np.random.randint()."
   ]
  },
  {
   "cell_type": "code",
   "execution_count": 33,
   "id": "fab8de40",
   "metadata": {},
   "outputs": [
    {
     "name": "stdout",
     "output_type": "stream",
     "text": [
      "[[80 30 13 98]\n",
      " [44 55 56 65]\n",
      " [15 40 13 80]\n",
      " [77 28 18 95]]\n"
     ]
    }
   ],
   "source": [
    "d = np.random.randint(0, 100, (4, 4))\n",
    "print(d)"
   ]
  },
  {
   "cell_type": "markdown",
   "id": "83ef3fed",
   "metadata": {},
   "source": [
    "10.\tCreate a 2D numpy array of shape (3x3). Convert it into a pandas DataFrame and add column names: 'A', 'B', 'C'."
   ]
  },
  {
   "cell_type": "code",
   "execution_count": 35,
   "id": "f46d801f",
   "metadata": {},
   "outputs": [
    {
     "name": "stdout",
     "output_type": "stream",
     "text": [
      "    A   B   C\n",
      "0  66  37  95\n",
      "1  20  64  84\n",
      "2  56  28  56\n"
     ]
    }
   ],
   "source": [
    "import pandas as pd\n",
    "\n",
    "e = np.random.randint(0, 100, (3, 3))\n",
    "df = pd.DataFrame(e, columns=['A', 'B', 'C'])\n",
    "print(df)"
   ]
  },
  {
   "cell_type": "markdown",
   "id": "06a4abc8",
   "metadata": {},
   "source": [
    "# Section C: Exploring Pandas"
   ]
  },
  {
   "cell_type": "markdown",
   "id": "8b9a13b6",
   "metadata": {},
   "source": [
    "11.\tCreate a small DataFrame manually with 10 rows and columns: 'Name', 'Age', 'City', and 'Salary'. Then:\n",
    "- Use .info(), .describe()\n",
    "- Select 'Name' and 'City' columns\n",
    "- Drop 'City' column\n",
    "- Fill any missing values in 'Salary' column with the mean\n",
    "- Remove any duplicate rows\n"
   ]
  },
  {
   "cell_type": "code",
   "execution_count": 38,
   "id": "f88eff6b",
   "metadata": {},
   "outputs": [
    {
     "name": "stdout",
     "output_type": "stream",
     "text": [
      "<class 'pandas.core.frame.DataFrame'>\n",
      "RangeIndex: 10 entries, 0 to 9\n",
      "Data columns (total 4 columns):\n",
      " #   Column  Non-Null Count  Dtype  \n",
      "---  ------  --------------  -----  \n",
      " 0   Name    10 non-null     object \n",
      " 1   Age     10 non-null     int64  \n",
      " 2   City    10 non-null     object \n",
      " 3   Salary  8 non-null      float64\n",
      "dtypes: float64(1), int64(1), object(2)\n",
      "memory usage: 448.0+ bytes\n",
      "None\n",
      "             Age        Salary\n",
      "count  10.000000      8.000000\n",
      "mean   22.600000  50125.000000\n",
      "std     1.429841   2850.438563\n",
      "min    21.000000  47000.000000\n",
      "25%    21.250000  48000.000000\n",
      "50%    22.500000  50000.000000\n",
      "75%    23.750000  50500.000000\n",
      "max    25.000000  56000.000000\n",
      "    Name       City\n",
      "0   Ravi   Tirupati\n",
      "1  Priya      Delhi\n",
      "2   John     Mumbai\n",
      "3    Ana    Chennai\n",
      "4   Paul  Hyderabad\n",
      "5   Ravi   Tirupati\n",
      "6   Sara     Mumbai\n",
      "7    Tom      Delhi\n",
      "8    Leo    Chennai\n",
      "9    Anu  Hyderabad\n",
      "    Name  Age   Salary\n",
      "0   Ravi   21  50000.0\n",
      "1  Priya   22  52000.0\n",
      "2   John   24      NaN\n",
      "3    Ana   21  48000.0\n",
      "4   Paul   23  50000.0\n",
      "5   Ravi   21  50000.0\n",
      "6   Sara   25  56000.0\n",
      "7    Tom   22      NaN\n",
      "8    Leo   24  47000.0\n",
      "9    Anu   23  48000.0\n",
      "    Name  Age   Salary\n",
      "0   Ravi   21  50000.0\n",
      "1  Priya   22  52000.0\n",
      "2   John   24  50125.0\n",
      "3    Ana   21  48000.0\n",
      "4   Paul   23  50000.0\n",
      "5   Ravi   21  50000.0\n",
      "6   Sara   25  56000.0\n",
      "7    Tom   22  50125.0\n",
      "8    Leo   24  47000.0\n",
      "9    Anu   23  48000.0\n",
      "    Name  Age   Salary\n",
      "0   Ravi   21  50000.0\n",
      "1  Priya   22  52000.0\n",
      "2   John   24  50125.0\n",
      "3    Ana   21  48000.0\n",
      "4   Paul   23  50000.0\n",
      "6   Sara   25  56000.0\n",
      "7    Tom   22  50125.0\n",
      "8    Leo   24  47000.0\n",
      "9    Anu   23  48000.0\n"
     ]
    }
   ],
   "source": [
    "import pandas as pd\n",
    "import numpy as np\n",
    "\n",
    "data = {\n",
    "    'Name': ['Ravi', 'Priya', 'John', 'Ana', 'Paul', 'Ravi', 'Sara', 'Tom', 'Leo', 'Anu'],\n",
    "    'Age': [21, 22, 24, 21, 23, 21, 25, 22, 24, 23],\n",
    "    'City': ['Tirupati', 'Delhi', 'Mumbai', 'Chennai', 'Hyderabad', 'Tirupati', 'Mumbai', 'Delhi', 'Chennai', 'Hyderabad'],\n",
    "    'Salary': [50000, 52000, np.nan, 48000, 50000, 50000, 56000, np.nan, 47000, 48000]\n",
    "}\n",
    "\n",
    "df_small = pd.DataFrame(data)\n",
    "print(df_small.info())\n",
    "print(df_small.describe())\n",
    "\n",
    "selected = df_small[['Name', 'City']]\n",
    "print(selected)\n",
    "\n",
    "df_small = df_small.drop(['City'], axis=1)\n",
    "print(df_small)\n",
    "\n",
    "mean_salary = df_small['Salary'].mean()\n",
    "df_small['Salary'] = df_small['Salary'].fillna(mean_salary)\n",
    "print(df_small)\n",
    "\n",
    "df_small = df_small.drop_duplicates()\n",
    "print(df_small)"
   ]
  },
  {
   "cell_type": "code",
   "execution_count": null,
   "id": "3db17c74",
   "metadata": {},
   "outputs": [],
   "source": []
  }
 ],
 "metadata": {
  "kernelspec": {
   "display_name": "Python 3",
   "language": "python",
   "name": "python3"
  },
  "language_info": {
   "codemirror_mode": {
    "name": "ipython",
    "version": 3
   },
   "file_extension": ".py",
   "mimetype": "text/x-python",
   "name": "python",
   "nbconvert_exporter": "python",
   "pygments_lexer": "ipython3",
   "version": "3.10.11"
  }
 },
 "nbformat": 4,
 "nbformat_minor": 5
}
