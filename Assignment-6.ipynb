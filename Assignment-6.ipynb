{
 "cells": [
  {
   "cell_type": "markdown",
   "id": "d789dc4c",
   "metadata": {},
   "source": [
    "## Confidence Interval"
   ]
  },
  {
   "cell_type": "markdown",
   "id": "1025bd3b",
   "metadata": {},
   "source": [
    "a. Build a 99% Confidence Interval Using Sample Standard Deviation (t-distribution)\n",
    "Steps:\n",
    "\n",
    "Use the sample mean and sample standard deviation since population std is unknown.\n",
    "\n",
    "Because n is small, use the t-distribution for interval estimation."
   ]
  },
  {
   "cell_type": "code",
   "execution_count": 16,
   "id": "934b6222",
   "metadata": {},
   "outputs": [
    {
     "name": "stdout",
     "output_type": "stream",
     "text": [
      "99% Confidence Interval using sample std (t): (1.0902, 1.3871)\n"
     ]
    }
   ],
   "source": [
    "import numpy as np\n",
    "from scipy.stats import t\n",
    "\n",
    "data = [1.13, 1.55, 1.43, 0.92, 1.25, 1.36, 1.32, 0.85, 1.07, 1.48, 1.20, 1.33, 1.18, 1.22, 1.29]\n",
    "n = len(data)\n",
    "mean = np.mean(data)\n",
    "std = np.std(data, ddof=1)  # sample std deviation\n",
    "\n",
    "confidence = 0.99\n",
    "alpha = 1 - confidence\n",
    "df = n - 1\n",
    "\n",
    "t_crit = t.ppf(1 - alpha/2, df)\n",
    "margin = t_crit * std / np.sqrt(n)\n",
    "\n",
    "lower = mean - margin\n",
    "upper = mean + margin\n",
    "\n",
    "print(f\"99% Confidence Interval using sample std (t): ({lower:.4f}, {upper:.4f})\")"
   ]
  },
  {
   "cell_type": "markdown",
   "id": "072eb00f",
   "metadata": {},
   "source": [
    "b. Build a 99% Confidence Interval Using Known Population Standard Deviation (z-distribution)\n",
    "Steps:\n",
    "\n",
    "Use population std deviation (σ = 0.2 million) and z-distribution."
   ]
  },
  {
   "cell_type": "code",
   "execution_count": 17,
   "id": "3804500b",
   "metadata": {},
   "outputs": [
    {
     "name": "stdout",
     "output_type": "stream",
     "text": [
      "99% Confidence Interval using population std (z): (1.1057, 1.3717)\n"
     ]
    }
   ],
   "source": [
    "from scipy.stats import norm\n",
    "\n",
    "pop_std = 0.2\n",
    "z_crit = norm.ppf(1 - alpha/2)\n",
    "margin_z = z_crit * pop_std / np.sqrt(n)\n",
    "\n",
    "lower_z = mean - margin_z\n",
    "upper_z = mean + margin_z\n",
    "\n",
    "print(f\"99% Confidence Interval using population std (z): ({lower_z:.4f}, {upper_z:.4f})\")"
   ]
  },
  {
   "cell_type": "markdown",
   "id": "dc69d7d7-60de-40f5-ae45-69e9b3d22f99",
   "metadata": {},
   "source": [
    "# HYPOTHESIS TESTING"
   ]
  },
  {
   "cell_type": "markdown",
   "id": "ff8d956b",
   "metadata": {},
   "source": [
    "1. State the Hypotheses statement"
   ]
  },
  {
   "cell_type": "raw",
   "id": "760141f7-315a-4cbb-85a8-ab61edf9a548",
   "metadata": {
    "vscode": {
     "languageId": "raw"
    }
   },
   "source": [
    "Null Hypothesis (H0): There is no association between the type of smart home device purchased and customer satisfaction.\n",
    "Alternative Hypothesis (H1): There is an association between the type of smart home device purchased and customer satisfaction."
   ]
  },
  {
   "cell_type": "markdown",
   "id": "b17ee81a",
   "metadata": {
    "vscode": {
     "languageId": "raw"
    }
   },
   "source": [
    "2. Calculate the Test Statistic"
   ]
  },
  {
   "cell_type": "code",
   "execution_count": 8,
   "id": "af712eda",
   "metadata": {},
   "outputs": [
    {
     "name": "stdout",
     "output_type": "stream",
     "text": [
      "Test Statistic (z): -38.0\n"
     ]
    }
   ],
   "source": [
    "import numpy as np\n",
    "\n",
    "sample_mean = 3050             # x̄\n",
    "X = 600                        # mean units produced\n",
    "n = 25                         # sample size\n",
    "std_dev = 25                   # standard deviation of units produced\n",
    "\n",
    "# Calculate theoretical mean cost for X=600 units\n",
    "theoretical_mean = 1000 + 5 * X  # μ = 1000 + 5*600 = 4000\n",
    "\n",
    "# Standard error (known σ, population std dev assumed same as sample)\n",
    "# But the cost model is linear in X, so std deviation of operating cost is 5*std_dev of X\n",
    "cost_std = 5 * std_dev         # = 5*25 = 125\n",
    "std_error = cost_std / np.sqrt(n)  # = 125 / sqrt(25)\n",
    "\n",
    "z = (sample_mean - theoretical_mean) / std_error\n",
    "print(\"Test Statistic (z):\", z)"
   ]
  },
  {
   "cell_type": "markdown",
   "id": "ee013c84",
   "metadata": {},
   "source": [
    "3. Determine the Probability and Compare (Alpha level 0.05)"
   ]
  },
  {
   "cell_type": "code",
   "execution_count": 9,
   "id": "4657e308",
   "metadata": {},
   "outputs": [
    {
     "name": "stdout",
     "output_type": "stream",
     "text": [
      "Critical value for one-tailed test at alpha=0.05: 1.644853626951472\n"
     ]
    }
   ],
   "source": [
    "from scipy.stats import norm\n",
    "\n",
    "alpha = 0.05\n",
    "critical_value = norm.ppf(1 - alpha)\n",
    "print(\"Critical value for one-tailed test at alpha=0.05:\", critical_value)"
   ]
  },
  {
   "cell_type": "markdown",
   "id": "ce6b350f",
   "metadata": {},
   "source": [
    "4. Make a Decision"
   ]
  },
  {
   "cell_type": "code",
   "execution_count": 10,
   "id": "4ae91d0f",
   "metadata": {},
   "outputs": [
    {
     "name": "stdout",
     "output_type": "stream",
     "text": [
      "Do not reject the null hypothesis (no evidence costs are higher).\n"
     ]
    }
   ],
   "source": [
    "if z > critical_value:\n",
    "    print(\"Reject the null hypothesis (costs are higher).\")\n",
    "else:\n",
    "    print(\"Do not reject the null hypothesis (no evidence costs are higher).\")"
   ]
  },
  {
   "cell_type": "markdown",
   "id": "db780cd3",
   "metadata": {},
   "source": [
    "5. Conclusion"
   ]
  },
  {
   "cell_type": "code",
   "execution_count": 11,
   "id": "5e20abb2",
   "metadata": {},
   "outputs": [
    {
     "name": "stdout",
     "output_type": "stream",
     "text": [
      "Conclusion: There is not enough evidence to say restaurant owners' weekly operating costs are higher than the model.\n"
     ]
    }
   ],
   "source": [
    "# Based on the test result, state the conclusion\n",
    "if z > critical_value:\n",
    "    conclusion = \"There is strong evidence that restaurant owners' weekly operating costs are significantly higher than the model suggests.\"\n",
    "else:\n",
    "    conclusion = \"There is not enough evidence to say restaurant owners' weekly operating costs are higher than the model.\"\n",
    "print(\"Conclusion:\", conclusion)"
   ]
  }
 ],
 "metadata": {
  "kernelspec": {
   "display_name": "Python 3",
   "language": "python",
   "name": "python3"
  },
  "language_info": {
   "codemirror_mode": {
    "name": "ipython",
    "version": 3
   },
   "file_extension": ".py",
   "mimetype": "text/x-python",
   "name": "python",
   "nbconvert_exporter": "python",
   "pygments_lexer": "ipython3",
   "version": "3.10.11"
  }
 },
 "nbformat": 4,
 "nbformat_minor": 5
}
