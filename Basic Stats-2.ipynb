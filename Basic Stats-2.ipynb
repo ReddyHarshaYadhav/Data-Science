{
 "cells": [
  {
   "cell_type": "markdown",
   "id": "ad86e2e7",
   "metadata": {},
   "source": [
    "# BASIC STATISTICS-2"
   ]
  },
  {
   "cell_type": "markdown",
   "id": "d0b66caf",
   "metadata": {},
   "source": [
    "# Hospital Patient Data Analysis"
   ]
  },
  {
   "cell_type": "markdown",
   "id": "87f9704b",
   "metadata": {},
   "source": [
    "A hospital maintains patient records including admission details, department, diagnosis, doctor, and bill amount. You have two datasets: one with patient info and another with billing details. Some patients have blank bill amounts, and there are multiple rows for the same patient due to follow-ups."
   ]
  },
  {
   "cell_type": "markdown",
   "id": "7901ed12",
   "metadata": {},
   "source": [
    "# Tasks:"
   ]
  },
  {
   "cell_type": "markdown",
   "id": "09836e3a",
   "metadata": {},
   "source": [
    "1.\tLoad the patient dataset and show summary with info()."
   ]
  },
  {
   "cell_type": "code",
   "execution_count": 2,
   "id": "fa727eab",
   "metadata": {},
   "outputs": [
    {
     "name": "stdout",
     "output_type": "stream",
     "text": [
      "<class 'pandas.core.frame.DataFrame'>\n",
      "RangeIndex: 6 entries, 0 to 5\n",
      "Data columns (total 7 columns):\n",
      " #   Column          Non-Null Count  Dtype  \n",
      "---  ------          --------------  -----  \n",
      " 0   PatientID       6 non-null      int64  \n",
      " 1   Name            6 non-null      object \n",
      " 2   Department      6 non-null      object \n",
      " 3   Doctor          6 non-null      object \n",
      " 4   BillAmount      4 non-null      float64\n",
      " 5   ReceptionistID  6 non-null      int64  \n",
      " 6   CheckInTime     6 non-null      object \n",
      "dtypes: float64(1), int64(2), object(4)\n",
      "memory usage: 464.0+ bytes\n",
      "None\n",
      "   PatientID     Name   Department     Doctor  BillAmount  ReceptionistID  \\\n",
      "0        101    Alice   Cardiology  Dr. Smith      5000.0               1   \n",
      "1        102      Bob    Neurology   Dr. John         NaN               2   \n",
      "2        103  Charlie  Orthopedics    Dr. Lee      7500.0               1   \n",
      "3        104    David   Cardiology  Dr. Smith      6200.0               3   \n",
      "4        105      Eva  Dermatology   Dr. Rose         NaN               2   \n",
      "\n",
      "        CheckInTime  \n",
      "0  2023-01-10 09:00  \n",
      "1  2023-01-11 10:30  \n",
      "2  2023-01-12 11:00  \n",
      "3  2023-01-13 12:00  \n",
      "4  2023-01-14 08:45  \n",
      "<class 'pandas.core.frame.DataFrame'>\n",
      "RangeIndex: 5 entries, 0 to 4\n",
      "Data columns (total 3 columns):\n",
      " #   Column            Non-Null Count  Dtype\n",
      "---  ------            --------------  -----\n",
      " 0   PatientID         5 non-null      int64\n",
      " 1   InsuranceCovered  5 non-null      int64\n",
      " 2   FinalAmount       5 non-null      int64\n",
      "dtypes: int64(3)\n",
      "memory usage: 248.0 bytes\n",
      "None\n",
      "   PatientID  InsuranceCovered  FinalAmount\n",
      "0        101              2000         3000\n",
      "1        102              1500         3500\n",
      "2        103              2500         5000\n",
      "3        104              3000         3200\n",
      "4        105              1000         4000\n"
     ]
    }
   ],
   "source": [
    "import pandas as pd\n",
    "\n",
    "patient_df = pd.read_csv('/Users/reddyharshayadhav/Downloads/data/Patient_data.csv')\n",
    "billing_df = pd.read_csv('/Users/reddyharshayadhav/Downloads/data/Billing_data.csv')\n",
    "\n",
    "print(patient_df.info())\n",
    "print(patient_df.head())\n",
    "print(billing_df.info())\n",
    "print(billing_df.head())"
   ]
  },
  {
   "cell_type": "markdown",
   "id": "65c340f3",
   "metadata": {},
   "source": [
    "2.\tSelect only the columns relevant for billing: ['PatientID', 'Department', 'Doctor', 'BillAmount']."
   ]
  },
  {
   "cell_type": "code",
   "execution_count": 3,
   "id": "d391b2f5",
   "metadata": {},
   "outputs": [
    {
     "name": "stdout",
     "output_type": "stream",
     "text": [
      "   PatientID   Department     Doctor  BillAmount\n",
      "0        101   Cardiology  Dr. Smith      5000.0\n",
      "1        102    Neurology   Dr. John         NaN\n",
      "2        103  Orthopedics    Dr. Lee      7500.0\n",
      "3        104   Cardiology  Dr. Smith      6200.0\n",
      "4        105  Dermatology   Dr. Rose         NaN\n"
     ]
    }
   ],
   "source": [
    "billing_columns = ['PatientID', 'Department', 'Doctor', 'BillAmount']\n",
    "billing_patient_df = patient_df[billing_columns]\n",
    "print(billing_patient_df.head())"
   ]
  },
  {
   "cell_type": "markdown",
   "id": "3d0bd0ee",
   "metadata": {},
   "source": [
    "3.\tDrop administrative columns like ['ReceptionistID', 'CheckInTime']."
   ]
  },
  {
   "cell_type": "code",
   "execution_count": 4,
   "id": "a8824df5",
   "metadata": {},
   "outputs": [
    {
     "name": "stdout",
     "output_type": "stream",
     "text": [
      "   PatientID   Department     Doctor  BillAmount\n",
      "0        101   Cardiology  Dr. Smith      5000.0\n",
      "1        102    Neurology   Dr. John         NaN\n",
      "2        103  Orthopedics    Dr. Lee      7500.0\n",
      "3        104   Cardiology  Dr. Smith      6200.0\n",
      "4        105  Dermatology   Dr. Rose         NaN\n"
     ]
    }
   ],
   "source": [
    "billing_patient_df = billing_patient_df.drop(['ReceptionistID', 'CheckInTime'], axis=1, errors='ignore')\n",
    "print(billing_patient_df.head())"
   ]
  },
  {
   "cell_type": "markdown",
   "id": "81607de5",
   "metadata": {},
   "source": [
    "4.\tUse groupby to find total bill amount per department."
   ]
  },
  {
   "cell_type": "code",
   "execution_count": 5,
   "id": "465bc97d",
   "metadata": {},
   "outputs": [
    {
     "name": "stdout",
     "output_type": "stream",
     "text": [
      "Department\n",
      "Cardiology     16200.0\n",
      "Dermatology        0.0\n",
      "Neurology          0.0\n",
      "Orthopedics     7500.0\n",
      "Name: BillAmount, dtype: float64\n"
     ]
    }
   ],
   "source": [
    "dept_bills = billing_patient_df.groupby('Department')['BillAmount'].sum()\n",
    "print(dept_bills)"
   ]
  },
  {
   "cell_type": "markdown",
   "id": "ff9e4627",
   "metadata": {},
   "source": [
    "5.\tRemove duplicate patient records based on PatientID."
   ]
  },
  {
   "cell_type": "code",
   "execution_count": 6,
   "id": "7597b2e8",
   "metadata": {},
   "outputs": [
    {
     "name": "stdout",
     "output_type": "stream",
     "text": [
      "   PatientID   Department     Doctor  BillAmount\n",
      "0        101   Cardiology  Dr. Smith      5000.0\n",
      "1        102    Neurology   Dr. John         NaN\n",
      "2        103  Orthopedics    Dr. Lee      7500.0\n",
      "3        104   Cardiology  Dr. Smith      6200.0\n",
      "4        105  Dermatology   Dr. Rose         NaN\n"
     ]
    }
   ],
   "source": [
    "billing_patient_df = billing_patient_df.drop_duplicates(subset=['PatientID'])\n",
    "print(billing_patient_df)"
   ]
  },
  {
   "cell_type": "markdown",
   "id": "3ec28ae4",
   "metadata": {},
   "source": [
    "6.\tFill missing BillAmount values with the mean bill amount."
   ]
  },
  {
   "cell_type": "code",
   "execution_count": 7,
   "id": "c9560e62",
   "metadata": {},
   "outputs": [
    {
     "name": "stdout",
     "output_type": "stream",
     "text": [
      "   PatientID   Department     Doctor   BillAmount\n",
      "0        101   Cardiology  Dr. Smith  5000.000000\n",
      "1        102    Neurology   Dr. John  6233.333333\n",
      "2        103  Orthopedics    Dr. Lee  7500.000000\n",
      "3        104   Cardiology  Dr. Smith  6200.000000\n",
      "4        105  Dermatology   Dr. Rose  6233.333333\n"
     ]
    }
   ],
   "source": [
    "mean_bill = billing_patient_df['BillAmount'].mean()\n",
    "billing_patient_df['BillAmount'] = billing_patient_df['BillAmount'].fillna(mean_bill)\n",
    "print(billing_patient_df)"
   ]
  },
  {
   "cell_type": "markdown",
   "id": "5641cff8",
   "metadata": {},
   "source": [
    "7.\tMerge the billing dataset with patient dataset on PatientID."
   ]
  },
  {
   "cell_type": "code",
   "execution_count": 8,
   "id": "a489d1a9",
   "metadata": {},
   "outputs": [
    {
     "name": "stdout",
     "output_type": "stream",
     "text": [
      "   PatientID   Department     Doctor   BillAmount  InsuranceCovered  \\\n",
      "0        101   Cardiology  Dr. Smith  5000.000000              2000   \n",
      "1        102    Neurology   Dr. John  6233.333333              1500   \n",
      "2        103  Orthopedics    Dr. Lee  7500.000000              2500   \n",
      "3        104   Cardiology  Dr. Smith  6200.000000              3000   \n",
      "4        105  Dermatology   Dr. Rose  6233.333333              1000   \n",
      "\n",
      "   FinalAmount  \n",
      "0         3000  \n",
      "1         3500  \n",
      "2         5000  \n",
      "3         3200  \n",
      "4         4000  \n"
     ]
    }
   ],
   "source": [
    "merged_df = pd.merge(billing_patient_df, billing_df, on='PatientID', how='left')\n",
    "print(merged_df)"
   ]
  },
  {
   "cell_type": "markdown",
   "id": "6dfac05d",
   "metadata": {},
   "source": [
    "8.\tConcatenate an additional DataFrame that contains new patients for the current week (row-wise)."
   ]
  },
  {
   "cell_type": "code",
   "execution_count": 9,
   "id": "78e57675",
   "metadata": {},
   "outputs": [
    {
     "name": "stdout",
     "output_type": "stream",
     "text": [
      "   PatientID   Department     Doctor   BillAmount\n",
      "0        101   Cardiology  Dr. Smith  5000.000000\n",
      "1        102    Neurology   Dr. John  6233.333333\n",
      "2        103  Orthopedics    Dr. Lee  7500.000000\n",
      "3        104   Cardiology  Dr. Smith  6200.000000\n",
      "4        105  Dermatology   Dr. Rose  6233.333333\n",
      "5        106     Oncology    Dr. Tom  8000.000000\n",
      "6        107   Pediatrics   Dr. Emma  6500.000000\n"
     ]
    }
   ],
   "source": [
    "new_patients = pd.DataFrame({\n",
    "    'PatientID': [106, 107],\n",
    "    'Department': ['Oncology', 'Pediatrics'],\n",
    "    'Doctor': ['Dr. Tom', 'Dr. Emma'],\n",
    "    'BillAmount': [8000, 6500]\n",
    "})\n",
    "billing_patient_df = pd.concat([billing_patient_df, new_patients], ignore_index=True)\n",
    "print(billing_patient_df)"
   ]
  },
  {
   "cell_type": "markdown",
   "id": "6264559f",
   "metadata": {},
   "source": [
    "9.\tConcatenate new billing category columns like ['InsuranceCovered', 'FinalAmount'] (column-wise)."
   ]
  },
  {
   "cell_type": "code",
   "execution_count": 10,
   "id": "4e6d8497",
   "metadata": {},
   "outputs": [
    {
     "name": "stdout",
     "output_type": "stream",
     "text": [
      "   PatientID   Department     Doctor   BillAmount  InsuranceCovered  \\\n",
      "0        101   Cardiology  Dr. Smith  5000.000000            4000.0   \n",
      "1        102    Neurology   Dr. John  6233.333333            2000.0   \n",
      "2        103  Orthopedics    Dr. Lee  7500.000000               NaN   \n",
      "3        104   Cardiology  Dr. Smith  6200.000000               NaN   \n",
      "4        105  Dermatology   Dr. Rose  6233.333333               NaN   \n",
      "5        106     Oncology    Dr. Tom  8000.000000               NaN   \n",
      "6        107   Pediatrics   Dr. Emma  6500.000000               NaN   \n",
      "\n",
      "   FinalAmount  \n",
      "0       4000.0  \n",
      "1       4500.0  \n",
      "2          NaN  \n",
      "3          NaN  \n",
      "4          NaN  \n",
      "5          NaN  \n",
      "6          NaN  \n"
     ]
    }
   ],
   "source": [
    "new_billing_cols = pd.DataFrame({\n",
    "    'InsuranceCovered': [4000, 2000],\n",
    "    'FinalAmount': [4000, 4500]\n",
    "})\n",
    "final_df = pd.concat([billing_patient_df, new_billing_cols], axis=1)\n",
    "print(final_df)"
   ]
  },
  {
   "cell_type": "markdown",
   "id": "6765505d",
   "metadata": {},
   "source": [
    "# Expected Outcome:"
   ]
  },
  {
   "cell_type": "markdown",
   "id": "dc1598fa",
   "metadata": {},
   "source": [
    "# •\tFinal cleaned dataset with accurate billing info."
   ]
  },
  {
   "cell_type": "markdown",
   "id": "1183de48",
   "metadata": {},
   "source": [
    "The patient and billing datasets were successfully cleaned and merged to provide a comprehensive view of each patient's billing details. Through data cleaning, duplicate records were removed and missing billing amounts were accurately imputed, ensuring the reliability of billing information for every patient."
   ]
  },
  {
   "cell_type": "markdown",
   "id": "8533c177",
   "metadata": {},
   "source": [
    "# •\tAll missing values handled, merged dataset across PatientID."
   ]
  },
  {
   "cell_type": "markdown",
   "id": "7a347dc0",
   "metadata": {},
   "source": [
    "By merging both datasets on PatientID, every patient's record now integrates relevant billing information including insurance coverage and final billed amounts. This consolidated dataset allows for seamless analysis and reporting at both the patient and department levels."
   ]
  },
  {
   "cell_type": "markdown",
   "id": "00747750",
   "metadata": {},
   "source": [
    "# •\tAbility to perform further analytics on department-wise revenue or doctor performance."
   ]
  },
  {
   "cell_type": "markdown",
   "id": "1e389d3e",
   "metadata": {},
   "source": [
    "The finalized dataset enables effective analytics, such as evaluation of total and average department-wise revenue, and performance benchmarking for individual doctors. These insights support further decision-making, optimization, and financial tracking in the hospital environment."
   ]
  }
 ],
 "metadata": {
  "kernelspec": {
   "display_name": "Python 3",
   "language": "python",
   "name": "python3"
  },
  "language_info": {
   "codemirror_mode": {
    "name": "ipython",
    "version": 3
   },
   "file_extension": ".py",
   "mimetype": "text/x-python",
   "name": "python",
   "nbconvert_exporter": "python",
   "pygments_lexer": "ipython3",
   "version": "3.10.11"
  }
 },
 "nbformat": 4,
 "nbformat_minor": 5
}
